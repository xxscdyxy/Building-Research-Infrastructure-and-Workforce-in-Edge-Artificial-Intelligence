{
 "cells": [
  {
   "cell_type": "code",
   "execution_count": null,
   "id": "95aed926",
   "metadata": {},
   "outputs": [],
   "source": [
    "def combine_data(patients_included,num_days,seed_number):\n",
    "    random.seed(seed_number) \n",
    "    np.random.seed(seed_number)\n",
    "    tf.random.set_seed(seed_number)\n",
    "    # Initialize an empty DataFrame to store the combined data\n",
    "    combined_data_training = pd.DataFrame()\n",
    "    combined_data_testing = pd.DataFrame()\n",
    "    for i in range(len(patients_included)):\n",
    "        #######get X and y####################\n",
    "        file = patients_included[i]\n",
    "        directory = os.getcwd()\n",
    "\n",
    "        file_path = os.path.join(directory, file)\n",
    "        print(file_path)\n",
    "        df = pd.read_csv(file_path)\n",
    "        \n",
    "        combined_data_training = pd.concat([combined_data_training, df.iloc[:int(480*(num_days-2))]])\n",
    "        combined_data_validation = pd.concat([combined_data_training, df.iloc[int(480*(num_days-2)):int(480*(num_days-1))]])\n",
    "        combined_data_testing = pd.concat([combined_data_testing, df.iloc[int(480*(num_days-1)):480*num_days]])\n",
    "        \n",
    "\n",
    "    return combined_data_training, combined_data_validation, combined_data_testing"
   ]
  }
 ],
 "metadata": {
  "kernelspec": {
   "display_name": "Python 3 (ipykernel)",
   "language": "python",
   "name": "python3"
  },
  "language_info": {
   "codemirror_mode": {
    "name": "ipython",
    "version": 3
   },
   "file_extension": ".py",
   "mimetype": "text/x-python",
   "name": "python",
   "nbconvert_exporter": "python",
   "pygments_lexer": "ipython3",
   "version": "3.9.18"
  }
 },
 "nbformat": 4,
 "nbformat_minor": 5
}
